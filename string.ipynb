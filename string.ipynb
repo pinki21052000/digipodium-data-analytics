{
 "cells": [
  {
   "cell_type": "code",
   "execution_count": 1,
   "metadata": {},
   "outputs": [
    {
     "ename": "TypeError",
     "evalue": "'str' object is not callable",
     "output_type": "error",
     "traceback": [
      "\u001b[1;31m---------------------------------------------------------------------------\u001b[0m",
      "\u001b[1;31mTypeError\u001b[0m                                 Traceback (most recent call last)",
      "Cell \u001b[1;32mIn[1], line 5\u001b[0m\n\u001b[0;32m      3\u001b[0m s\u001b[39m=\u001b[39m\u001b[39m\"\u001b[39m\u001b[39m\"\u001b[39m\n\u001b[0;32m      4\u001b[0m b\u001b[39m=\u001b[39m\u001b[39m1\u001b[39m\n\u001b[1;32m----> 5\u001b[0m \u001b[39mprint\u001b[39m(s(b))\n",
      "\u001b[1;31mTypeError\u001b[0m: 'str' object is not callable"
     ]
    }
   ],
   "source": [
    "# string is a sequence of characater\n",
    "\n",
    "s=\"\"\n",
    "b=1\n",
    "print(s(b))\n"
   ]
  },
  {
   "cell_type": "code",
   "execution_count": 3,
   "metadata": {},
   "outputs": [
    {
     "name": "stdout",
     "output_type": "stream",
     "text": [
      "12\n",
      "pinki  yadav\n"
     ]
    }
   ],
   "source": [
    "str =  \"pinki  yadav\"\n",
    "print(len(str))\n",
    "print(str)\n"
   ]
  },
  {
   "cell_type": "code",
   "execution_count": null,
   "metadata": {},
   "outputs": [
    {
     "name": "stdout",
     "output_type": "stream",
     "text": [
      "i\n",
      "0 p\n",
      "1 i\n",
      "2 n\n",
      "3 k\n",
      "4 i\n",
      "5  \n",
      "6 y\n",
      "7 a\n",
      "8 d\n",
      "9 a\n",
      "10 v\n"
     ]
    }
   ],
   "source": [
    "#indexing\n",
    "s = \"pinki yadav\"\n",
    "print(str[4])\n",
    "\n",
    "# forloop\n",
    "\n",
    "for i in range(len(s)):\n",
    " print(i,s[i])"
   ]
  },
  {
   "cell_type": "code",
   "execution_count": null,
   "metadata": {},
   "outputs": [
    {
     "name": "stdout",
     "output_type": "stream",
     "text": [
      "1\n",
      "1\n",
      "1\n"
     ]
    }
   ],
   "source": [
    "#slicing\n",
    "print(s[:])\n",
    "print(s[:7])\n",
    "print(s[:5])"
   ]
  },
  {
   "cell_type": "code",
   "execution_count": null,
   "metadata": {},
   "outputs": [],
   "source": [
    "msg = \"Life before death,Strenght before weakness,journey before Destination\""
   ]
  },
  {
   "cell_type": "code",
   "execution_count": null,
   "metadata": {},
   "outputs": [
    {
     "name": "stdout",
     "output_type": "stream",
     "text": [
      "69\n"
     ]
    }
   ],
   "source": [
    "print(len(msg))"
   ]
  },
  {
   "cell_type": "code",
   "execution_count": null,
   "metadata": {},
   "outputs": [
    {
     "data": {
      "text/plain": [
       "['Life before death', 'Strenght before weakness', 'journey before Destination']"
      ]
     },
     "execution_count": 8,
     "metadata": {},
     "output_type": "execute_result"
    }
   ],
   "source": [
    "msg.split(\",\")\n"
   ]
  },
  {
   "cell_type": "code",
   "execution_count": null,
   "metadata": {},
   "outputs": [
    {
     "name": "stdout",
     "output_type": "stream",
     "text": [
      "jonny jonny yes papa,\n",
      "      eating sugar no papa,\n",
      "       telling a lies no papa,\n",
      "        open your mouth hahah,\n",
      "111\n"
     ]
    }
   ],
   "source": [
    "poem=('''jonny jonny yes papa,\n",
    "      eating sugar no papa,\n",
    "       telling a lies no papa,\n",
    "        open your mouth hahah,''' )\n",
    "print(poem)\n",
    "print(len(poem))\n"
   ]
  },
  {
   "cell_type": "code",
   "execution_count": null,
   "metadata": {},
   "outputs": [
    {
     "name": "stdout",
     "output_type": "stream",
     "text": [
      "-x-* 10\n",
      "111 num of characters\n"
     ]
    }
   ],
   "source": [
    "print('-x-* 10')\n",
    "print(len(poem),'num of characters')"
   ]
  },
  {
   "cell_type": "code",
   "execution_count": null,
   "metadata": {},
   "outputs": [
    {
     "name": "stdout",
     "output_type": "stream",
     "text": [
      "No. of words 17\n"
     ]
    }
   ],
   "source": [
    "print(\"No. of words\",len(poem.split()))"
   ]
  },
  {
   "cell_type": "code",
   "execution_count": null,
   "metadata": {},
   "outputs": [
    {
     "name": "stdout",
     "output_type": "stream",
     "text": [
      "4 num of lines\n"
     ]
    }
   ],
   "source": [
    "print(len(poem.splitlines()),'num of lines')"
   ]
  },
  {
   "cell_type": "code",
   "execution_count": null,
   "metadata": {},
   "outputs": [
    {
     "data": {
      "text/plain": [
       "3"
      ]
     },
     "execution_count": 13,
     "metadata": {},
     "output_type": "execute_result"
    }
   ],
   "source": [
    "poem.count('papa')"
   ]
  },
  {
   "cell_type": "code",
   "execution_count": null,
   "metadata": {},
   "outputs": [
    {
     "name": "stdout",
     "output_type": "stream",
     "text": [
      "LIFE BEFORE DEATH,STRENGHT BEFORE WEAKNESS,JOURNEY BEFORE DESTINATION\n",
      "life before death,strenght before weakness,journey before destination\n",
      "Life Before Death,Strenght Before Weakness,Journey Before Destination\n",
      "Life before death,strenght before weakness,journey before destination\n",
      "lIFE BEFORE DEATH,sTRENGHT BEFORE WEAKNESS,JOURNEY BEFORE dESTINATION\n"
     ]
    }
   ],
   "source": [
    "print(msg.upper())\n",
    "print(msg.lower())\n",
    "print(msg.title())\n",
    "print(msg.capitalize())\n",
    "print(msg.swapcase())\n",
    "\n"
   ]
  },
  {
   "cell_type": "code",
   "execution_count": null,
   "metadata": {},
   "outputs": [
    {
     "name": "stdout",
     "output_type": "stream",
     "text": [
      "apple False\n",
      "apple True\n",
      "apple True\n"
     ]
    }
   ],
   "source": [
    "a='apple'\n",
    "b='4567'\n",
    "c='apple100'\n",
    "print(a,a.isnumeric())# check if all characater are numeric\n",
    "print(a,a.isalpha())# check if all charaater are alphabets\n",
    "print(a,a.isalnum())# check if all character are alphanumric\n"
   ]
  },
  {
   "cell_type": "code",
   "execution_count": null,
   "metadata": {},
   "outputs": [
    {
     "name": "stdout",
     "output_type": "stream",
     "text": [
      "honny honny yes papa,\n",
      "      eating sugar no papa,\n",
      "       telling a lies no papa,\n",
      "        open your mouth hahah,\n",
      "jonny jonny yes papa,\n",
      "      eating sugar yes papa,\n",
      "       telling a lies yes papa,\n",
      "        open your mouth hahah,\n"
     ]
    }
   ],
   "source": [
    "print(poem.replace('jonny',\"honny\"))#used for replace words\n",
    "print(poem.replace('no','yes',2))"
   ]
  }
 ],
 "metadata": {
  "kernelspec": {
   "display_name": "base",
   "language": "python",
   "name": "python3"
  },
  "language_info": {
   "codemirror_mode": {
    "name": "ipython",
    "version": 3
   },
   "file_extension": ".py",
   "mimetype": "text/x-python",
   "name": "python",
   "nbconvert_exporter": "python",
   "pygments_lexer": "ipython3",
   "version": "3.10.10"
  },
  "orig_nbformat": 4
 },
 "nbformat": 4,
 "nbformat_minor": 2
}
