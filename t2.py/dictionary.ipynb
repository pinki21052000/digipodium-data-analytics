{
 "cells": [
  {
   "cell_type": "code",
   "execution_count": 1,
   "metadata": {},
   "outputs": [],
   "source": [
    "lbs_info ={\n",
    "    'full name':\"lal bahadur Shastri Girls college of Management\",\n",
    "    'short name':\"lbsgcm\",\n",
    "    'student':440,\n",
    "    \"culture\":'mood kharab bacche'\n",
    "\n",
    "}"
   ]
  },
  {
   "cell_type": "code",
   "execution_count": 2,
   "metadata": {},
   "outputs": [],
   "source": [
    "movies= {\n",
    "    'suryavansham':{\n",
    "    \"streamed  on\":\"sony max\",\n",
    "    'plot':'Rich father does not like his illirate son',\n",
    "    'rating':10,},\n",
    "    'gajini':{\n",
    "        'plot':'Rich person forgets everything after 15 minutes',\n",
    "        'rating':10,\n",
    "        'streamed on': 'jio cinema'\n",
    "\n",
    "\n",
    "    },\n",
    "    '3 idiots':{\n",
    "        'plot':'3 friends hangout together',\n",
    "        \"rating\":'9',\n",
    "        'streamed on':'netflix'\n",
    "    },\n",
    "    'veer zara':{\n",
    "        'plot':'two lovers from diff country',\n",
    "        'ratimg':6,\n",
    "        'streamed on': 'amazon prime',\n",
    "\n",
    "    },\n",
    "    \"the kerela story\":{\n",
    "        'plot':'muslim people tourting hindu people',\n",
    "        'rating':5,\n",
    "        'streamed on':'hotstar'\n",
    "        \n",
    "    }\n",
    "}\n",
    "\n",
    "\n",
    "    \n",
    "    \n",
    "    \n",
    "    \n"
   ]
  },
  {
   "cell_type": "code",
   "execution_count": 3,
   "metadata": {},
   "outputs": [
    {
     "data": {
      "text/plain": [
       "{'plot': 'Rich person forgets everything after 15 minutes',\n",
       " 'rating': 10,\n",
       " 'streamed on': 'jio cinema'}"
      ]
     },
     "execution_count": 3,
     "metadata": {},
     "output_type": "execute_result"
    }
   ],
   "source": [
    "#retrieve\n",
    "movies[\"gajini\"]\n",
    "\n"
   ]
  },
  {
   "cell_type": "code",
   "execution_count": 27,
   "metadata": {},
   "outputs": [
    {
     "data": {
      "text/plain": [
       "'Rich person forgets everything after 15 minutes'"
      ]
     },
     "execution_count": 27,
     "metadata": {},
     "output_type": "execute_result"
    }
   ],
   "source": [
    "movies[\"gajini\"]['plot']"
   ]
  },
  {
   "cell_type": "code",
   "execution_count": 32,
   "metadata": {},
   "outputs": [
    {
     "data": {
      "text/plain": [
       "dict_items([('suryavansham', {'streamed  on': 'sony max', 'plot': 'Rich father doesnot like his illirate son', 'rating': 10}), ('3 idiots', {'plot': '3 friends hangout together', 'rating': '9', 'streamed on': 'netflix'}), ('veer zara', {'plot': 'two lovers from diff country', 'ratimg': 6, 'streamed on': 'amazon prime'}), ('the kerela story', {'plot': 'muslim people tourting hindu people', 'rating': 5, 'streamed on': 'hotstar'})])"
      ]
     },
     "execution_count": 32,
     "metadata": {},
     "output_type": "execute_result"
    }
   ],
   "source": [
    "# getting only \n",
    "movies.items()"
   ]
  },
  {
   "cell_type": "code",
   "execution_count": null,
   "metadata": {},
   "outputs": [
    {
     "name": "stdout",
     "output_type": "stream",
     "text": [
      "SURYAVANSHAM\n",
      "streamed  on   sony max\n",
      "\n",
      "plot           Rich father doesnot like his illirate son\n",
      "\n",
      "rating         10\n",
      "\n",
      "GAJINI\n",
      "plot           Rich person forgets everything after 15 minutes\n",
      "\n",
      "rating         10\n",
      "\n",
      "streamed on    jio cinema\n",
      "\n",
      "3 IDIOTS\n",
      "plot           3 friends hangout together\n",
      "\n",
      "rating         9\n",
      "\n",
      "streamed on    netflix\n",
      "\n",
      "VEER ZARA\n",
      "plot           two lovers from diff country\n",
      "\n",
      "ratimg         6\n",
      "\n",
      "streamed on    amazon prime\n",
      "\n",
      "THE KERELA STORY\n",
      "plot           muslim people tourting hindu people\n",
      "\n",
      "rating         5\n",
      "\n",
      "streamed on    hotstar\n",
      "\n"
     ]
    }
   ],
   "source": [
    "for title,details in movies.items():\n",
    "    print(title.upper())\n",
    "    for entry, value in details.items():\n",
    "        print(f'{entry:15}{value}')\n",
    "        print()"
   ]
  },
  {
   "cell_type": "code",
   "execution_count": 29,
   "metadata": {},
   "outputs": [
    {
     "name": "stdout",
     "output_type": "stream",
     "text": [
      "{'suryavansham': {'streamed  on': 'sony max', 'plot': 'Rich father doesnot like his illirate son', 'rating': 10}, '3 idiots': {'plot': '3 friends hangout together', 'rating': '9', 'streamed on': 'netflix'}, 'veer zara': {'plot': 'two lovers from diff country', 'ratimg': 6, 'streamed on': 'amazon prime'}, 'the kerela story': {'plot': 'muslim people tourting hindu people', 'rating': 5, 'streamed on': 'hotstar'}}\n"
     ]
    }
   ],
   "source": [
    "movies.pop('gajini')\n",
    "print(movies)"
   ]
  },
  {
   "cell_type": "code",
   "execution_count": null,
   "metadata": {},
   "outputs": [],
   "source": []
  }
 ],
 "metadata": {
  "kernelspec": {
   "display_name": "base",
   "language": "python",
   "name": "python3"
  },
  "language_info": {
   "codemirror_mode": {
    "name": "ipython",
    "version": 3
   },
   "file_extension": ".py",
   "mimetype": "text/x-python",
   "name": "python",
   "nbconvert_exporter": "python",
   "pygments_lexer": "ipython3",
   "version": "3.10.10"
  },
  "orig_nbformat": 4
 },
 "nbformat": 4,
 "nbformat_minor": 2
}
