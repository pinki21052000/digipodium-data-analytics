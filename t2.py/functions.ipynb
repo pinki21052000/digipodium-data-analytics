{
 "cells": [
  {
   "cell_type": "code",
   "execution_count": 11,
   "metadata": {},
   "outputs": [],
   "source": [
    "#functiondefinition\n",
    "def pythagoras(base,perpendicular):\n",
    "    return (base**2 +perpendicular**2 )**0.5"
   ]
  },
  {
   "cell_type": "code",
   "execution_count": 12,
   "metadata": {},
   "outputs": [
    {
     "data": {
      "text/plain": [
       "5.0"
      ]
     },
     "execution_count": 12,
     "metadata": {},
     "output_type": "execute_result"
    }
   ],
   "source": [
    "#calling function\n",
    "pythagoras(3,4)"
   ]
  },
  {
   "cell_type": "code",
   "execution_count": 14,
   "metadata": {},
   "outputs": [
    {
     "data": {
      "text/plain": [
       "5.385164807134504"
      ]
     },
     "execution_count": 14,
     "metadata": {},
     "output_type": "execute_result"
    }
   ],
   "source": [
    "pythagoras(perpendicular=2,base=5)"
   ]
  },
  {
   "attachments": {},
   "cell_type": "markdown",
   "metadata": {},
   "source": [
    "f(x)=x^2+2x+1\n",
    "'f(2)\n",
    "g(x,y)=x^2 + 2xy + y^2\n",
    "g(2,3)"
   ]
  },
  {
   "attachments": {},
   "cell_type": "markdown",
   "metadata": {},
   "source": [
    "lamda expression-for many anonymous functions(1 line functions)"
   ]
  },
  {
   "cell_type": "code",
   "execution_count": 19,
   "metadata": {},
   "outputs": [
    {
     "name": "stdout",
     "output_type": "stream",
     "text": [
      "12\n",
      "28\n"
     ]
    }
   ],
   "source": [
    "f=lambda x: x**2 + 2**2+ 2*x*+ 1\n",
    "print(f(2))\n",
    "print(f(4))"
   ]
  },
  {
   "cell_type": "code",
   "execution_count": 20,
   "metadata": {},
   "outputs": [
    {
     "name": "stdout",
     "output_type": "stream",
     "text": [
      "164\n"
     ]
    }
   ],
   "source": [
    "g=lambda x,y: x**2 + 2*x*y +y**x\n",
    "print(g(3,5))"
   ]
  },
  {
   "cell_type": "code",
   "execution_count": 22,
   "metadata": {},
   "outputs": [
    {
     "name": "stdout",
     "output_type": "stream",
     "text": [
      "5.0\n"
     ]
    }
   ],
   "source": [
    "H=lambda P,B: (P**2 + B**2)**0.5\n",
    "print(H(3,4))"
   ]
  },
  {
   "cell_type": "code",
   "execution_count": 23,
   "metadata": {},
   "outputs": [
    {
     "data": {
      "text/plain": [
       "10080.0"
      ]
     },
     "execution_count": 23,
     "metadata": {},
     "output_type": "execute_result"
    }
   ],
   "source": [
    "# what is the amount after 16% discount on 12000\n",
    "12000*(1-.16)"
   ]
  },
  {
   "cell_type": "code",
   "execution_count": 29,
   "metadata": {},
   "outputs": [
    {
     "name": "stdout",
     "output_type": "stream",
     "text": [
      "8400.0\n",
      "25200.0\n",
      "10919.16\n",
      "42000.0\n",
      "36959.159999999996\n",
      "8820.0\n"
     ]
    }
   ],
   "source": [
    "prices =[10000, 30000, 12999,50000,43999,10500]\n",
    "\n",
    "for price in prices:\n",
    "    print(price*(1-.16))\n",
    "    \n",
    "    \n"
   ]
  },
  {
   "cell_type": "code",
   "execution_count": 31,
   "metadata": {},
   "outputs": [
    {
     "name": "stdout",
     "output_type": "stream",
     "text": [
      "[10000, 30000, 12999, 50000, 43999, 10500]\n",
      "[8400.0, 25200.0, 10919.16, 42000.0, 36959.159999999996, 8820.0]\n"
     ]
    }
   ],
   "source": [
    "prices =[10000, 30000, 12999,50000,43999,10500]\n",
    "dis_prices =[]\n",
    "\n",
    "for price in prices:\n",
    "    ans=price*(1-.16)\n",
    "    dis_prices.append(ans)\n",
    "print(prices)\n",
    "print(dis_prices)\n",
    "    \n",
    "    \n"
   ]
  },
  {
   "cell_type": "code",
   "execution_count": 33,
   "metadata": {},
   "outputs": [
    {
     "name": "stdout",
     "output_type": "stream",
     "text": [
      "[8400.0, 25200.0, 10919.16, 42000.0, 36959.159999999996, 8820.0]\n"
     ]
    }
   ],
   "source": [
    "dis_prices =list(map(lambda p:p*(1-.16),prices))\n",
    "print(dis_prices)"
   ]
  },
  {
   "cell_type": "code",
   "execution_count": 39,
   "metadata": {},
   "outputs": [
    {
     "name": "stdout",
     "output_type": "stream",
     "text": [
      "[1, 4, 9, 16, 36, 9, 49, 25, 64, 441]\n"
     ]
    }
   ],
   "source": [
    "print(list(map(lambda x:x)))"
   ]
  },
  {
   "cell_type": "code",
   "execution_count": null,
   "metadata": {},
   "outputs": [],
   "source": []
  }
 ],
 "metadata": {
  "kernelspec": {
   "display_name": "base",
   "language": "python",
   "name": "python3"
  },
  "language_info": {
   "codemirror_mode": {
    "name": "ipython",
    "version": 3
   },
   "file_extension": ".py",
   "mimetype": "text/x-python",
   "name": "python",
   "nbconvert_exporter": "python",
   "pygments_lexer": "ipython3",
   "version": "3.10.10"
  },
  "orig_nbformat": 4
 },
 "nbformat": 4,
 "nbformat_minor": 2
}
