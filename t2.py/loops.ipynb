{
 "cells": [
  {
   "cell_type": "code",
   "execution_count": 3,
   "metadata": {},
   "outputs": [
    {
     "name": "stdout",
     "output_type": "stream",
     "text": [
      "0\n",
      "1\n",
      "2\n",
      "3\n",
      "4\n",
      "5\n",
      "6\n",
      "7\n",
      "8\n",
      "9\n",
      "10\n",
      "11\n",
      "12\n",
      "13\n",
      "14\n"
     ]
    }
   ],
   "source": [
    "#for  and while loops\n",
    "#for-step loop\n",
    "for x in range(15):\n",
    "    print(x)\n",
    "    "
   ]
  },
  {
   "attachments": {},
   "cell_type": "markdown",
   "metadata": {},
   "source": [
    "for condition used\n",
    "-iterating over a squence(list,tuple,string)\n",
    "_iterating over a range\n"
   ]
  },
  {
   "attachments": {},
   "cell_type": "markdown",
   "metadata": {},
   "source": [
    "while condition based loop\n",
    "i=0\n",
    "while<10:\n",
    "print(i)\n",
    "i+=1\n",
    "```\n",
    "used for\n",
    "-iterating until a condition is met\n",
    "-iterating condition is not met\n",
    "-iterating frever(if you don't break out of it)\n"
   ]
  },
  {
   "cell_type": "code",
   "execution_count": 6,
   "metadata": {},
   "outputs": [],
   "source": [
    "movies = [\"sherk\",\"kunfu\",\"how to train your dragon\",'kerela story','ramsetu','aadipurush','mirzapur',\n",
    "  'jab we met','lavarish','zara hatke zara bachke']"
   ]
  },
  {
   "cell_type": "code",
   "execution_count": 5,
   "metadata": {},
   "outputs": [
    {
     "name": "stdout",
     "output_type": "stream",
     "text": [
      "total movies = 10\n"
     ]
    }
   ],
   "source": [
    "print(f'total movies = {len(movies)}')"
   ]
  },
  {
   "cell_type": "code",
   "execution_count": 4,
   "metadata": {},
   "outputs": [
    {
     "name": "stdout",
     "output_type": "stream",
     "text": [
      "sherk\n",
      "kunfu\n",
      "how to train your dragon\n",
      "kerela story\n",
      "ramsetu\n",
      "aadipurush\n",
      "mirazpur\n",
      "jab we met\n",
      "lavarish\n",
      "zara hatke zara bachke\n"
     ]
    }
   ],
   "source": [
    "for movie in movies:\n",
    "    print(movie)"
   ]
  },
  {
   "cell_type": "code",
   "execution_count": 5,
   "metadata": {},
   "outputs": [
    {
     "name": "stdout",
     "output_type": "stream",
     "text": [
      "sherk 5\n",
      "kunfu 5\n",
      "how to train your dragon 24\n",
      "kerela story 12\n",
      "ramsetu 7\n",
      "aadipurush 10\n",
      "mirazpur 8\n",
      "jab we met 10\n",
      "lavarish 8\n",
      "zara hatke zara bachke 22\n"
     ]
    }
   ],
   "source": [
    "for movie in movies:\n",
    "    print(movie,len(movie))\n"
   ]
  },
  {
   "cell_type": "code",
   "execution_count": 8,
   "metadata": {},
   "outputs": [
    {
     "name": "stdout",
     "output_type": "stream",
     "text": [
      "sherk                                              5\n",
      "kunfu                                              5\n",
      "how to train your dragon                           24\n",
      "kerela story                                       12\n",
      "ramsetu                                            7\n",
      "aadipurush                                         10\n",
      "mirazpur                                           8\n",
      "jab we met                                         10\n",
      "lavarish                                           8\n",
      "zara hatke zara bachke                             22\n"
     ]
    }
   ],
   "source": [
    "for movie in movies:\n",
    "    print(f'{movie:50} {len(movie)}')\n"
   ]
  },
  {
   "cell_type": "code",
   "execution_count": 12,
   "metadata": {},
   "outputs": [
    {
     "name": "stdout",
     "output_type": "stream",
     "text": [
      "23 12167\n",
      "45 91125\n",
      "67 300763\n",
      "48 110592\n",
      "7 343\n",
      "8 512\n",
      "6 216\n",
      "8 512\n"
     ]
    }
   ],
   "source": [
    "nums =(23,45,67,48,7,8,6,8,)\n",
    "for i in nums:\n",
    "    print(i,i**2)"
   ]
  },
  {
   "cell_type": "code",
   "execution_count": null,
   "metadata": {},
   "outputs": [],
   "source": []
  },
  {
   "cell_type": "code",
   "execution_count": 13,
   "metadata": {},
   "outputs": [
    {
     "name": "stdout",
     "output_type": "stream",
     "text": [
      "48 2304\n",
      "8 64\n",
      "6 36\n",
      "8 64\n"
     ]
    }
   ],
   "source": [
    "for i in nums :\n",
    "    if i%2==0:\n",
    "        print(i,i**2)\n"
   ]
  },
  {
   "cell_type": "code",
   "execution_count": 14,
   "metadata": {},
   "outputs": [
    {
     "name": "stdout",
     "output_type": "stream",
     "text": [
      "23 529\n",
      "45 2025\n",
      "67 4489\n",
      "7 49\n"
     ]
    }
   ],
   "source": [
    "for i in nums :\n",
    "    if i%2!=0:\n",
    "        print(i,i**2)\n"
   ]
  },
  {
   "cell_type": "code",
   "execution_count": 15,
   "metadata": {},
   "outputs": [
    {
     "data": {
      "text/plain": [
       "212"
      ]
     },
     "execution_count": 15,
     "metadata": {},
     "output_type": "execute_result"
    }
   ],
   "source": [
    "sum(nums)\n"
   ]
  },
  {
   "cell_type": "code",
   "execution_count": 20,
   "metadata": {},
   "outputs": [
    {
     "name": "stdout",
     "output_type": "stream",
     "text": [
      "70\n"
     ]
    }
   ],
   "source": [
    "total_even = 0\n",
    "for i in nums:\n",
    "    if i % 2==0:\n",
    "        total_even += i\n",
    "print(total_even)"
   ]
  },
  {
   "cell_type": "code",
   "execution_count": 26,
   "metadata": {},
   "outputs": [
    {
     "name": "stdout",
     "output_type": "stream",
     "text": [
      "23\n",
      "45\n",
      "67\n"
     ]
    }
   ],
   "source": [
    "for i in nums:\n",
    "    print(i)\n",
    "    if i>60:\n",
    "        break\n"
   ]
  },
  {
   "cell_type": "code",
   "execution_count": 36,
   "metadata": {},
   "outputs": [
    {
     "name": "stdout",
     "output_type": "stream",
     "text": [
      "apple\n",
      "potato\n",
      "banana\n"
     ]
    }
   ],
   "source": [
    "x = ['apple',\"potato\",'banana','','orange','mango']\n",
    "for item in x:\n",
    "    if len(item)== 0:\n",
    "        break\n",
    "    print(item)\n"
   ]
  },
  {
   "cell_type": "code",
   "execution_count": 1,
   "metadata": {},
   "outputs": [
    {
     "name": "stdout",
     "output_type": "stream",
     "text": [
      "invalid username?password\n",
      "invalid username?password\n",
      "invalid username?password\n",
      "to many errors\n"
     ]
    }
   ],
   "source": [
    "errors=0\n",
    "while True:\n",
    "    username =input(\"enter user name:\")\n",
    "    password =input(\"Enter password:\")\n",
    "    if username =='admin' and password =='secret':\n",
    "        print(\"login sucessfull\")\n",
    "        break\n",
    "    elif errors == 3:\n",
    "        print('to many errors')\n",
    "        break\n",
    "    else:\n",
    "        print('invalid username?password')\n",
    "\n",
    "        errors += 1"
   ]
  },
  {
   "cell_type": "code",
   "execution_count": 2,
   "metadata": {},
   "outputs": [],
   "source": [
    "X = [\n",
    "    ['economics', 4000],\n",
    "    ['lets c',5000],\n",
    "    ['merchant of venics',700],\n",
    "    ['chacha chaudhary',870],\n",
    "    ['champak',8000],\n",
    "]\n"
   ]
  },
  {
   "cell_type": "code",
   "execution_count": 6,
   "metadata": {},
   "outputs": [
    {
     "name": "stdout",
     "output_type": "stream",
     "text": [
      "economics\n",
      "---\n",
      "4000\n",
      "---\n",
      "lets c\n",
      "---\n",
      "5000\n",
      "---\n",
      "merchant of venics\n",
      "---\n",
      "700\n",
      "---\n",
      "chacha chaudhary\n",
      "---\n",
      "870\n",
      "---\n",
      "champak\n",
      "---\n",
      "8000\n",
      "---\n"
     ]
    }
   ],
   "source": [
    "for item in X:\n",
    "    for data in item:\n",
    "        print(data) \n",
    "        print('---')"
   ]
  }
 ],
 "metadata": {
  "kernelspec": {
   "display_name": "base",
   "language": "python",
   "name": "python3"
  },
  "language_info": {
   "codemirror_mode": {
    "name": "ipython",
    "version": 3
   },
   "file_extension": ".py",
   "mimetype": "text/x-python",
   "name": "python",
   "nbconvert_exporter": "python",
   "pygments_lexer": "ipython3",
   "version": "3.10.10"
  },
  "orig_nbformat": 4
 },
 "nbformat": 4,
 "nbformat_minor": 2
}
