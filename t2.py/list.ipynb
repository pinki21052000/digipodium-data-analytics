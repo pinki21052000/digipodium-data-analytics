{
 "cells": [
  {
   "cell_type": "code",
   "execution_count": 6,
   "metadata": {},
   "outputs": [],
   "source": [
    "# defining list in python\n",
    "\n",
    "#list of strings\n",
    "# list1=[\"aman\", \"akhilesk\",\"rahul\",\"devansh\",'rishab']\n",
    "\n",
    "#list of numbers\n",
    "list2=[1,2,3,4]\n",
    "#mixed datalist\n",
    "#list3=[\"ravi\",60,102,\"b\",\"false\"]\n",
    "#nested list\n",
    "list4=[[1,2,3,4],[1,3,4,5],[1,2]]"
   ]
  },
  {
   "cell_type": "code",
   "execution_count": 2,
   "metadata": {},
   "outputs": [
    {
     "name": "stdout",
     "output_type": "stream",
     "text": [
      "[]\n"
     ]
    }
   ],
   "source": [
    "# Getting a list slice\n",
    "l =[10,20,30,40,50,60,70,80,90,100]\n",
    "slice1=l[-7:2]\n",
    "print(slice1)"
   ]
  },
  {
   "cell_type": "code",
   "execution_count": 2,
   "metadata": {},
   "outputs": [
    {
     "name": "stdout",
     "output_type": "stream",
     "text": [
      "[60, 10, 20, 30, 40, 50, 60, 70, 80, 90]\n",
      "[40, 50, 60, 10, 20, 30, 40, 50, 60]\n"
     ]
    }
   ],
   "source": [
    "# Getting a list\n",
    "l=[10,20,30,40,50,60,10,20,30,40,50,60,70,80,90,100]\n",
    "slice1=l[5:-1]\n",
    "slice2=l[3:-4]\n",
    "print(slice1)\n",
    "print(slice2)\n",
    "\n"
   ]
  },
  {
   "cell_type": "code",
   "execution_count": 9,
   "metadata": {},
   "outputs": [],
   "source": [
    "list1=[1,2,3,'a','b']"
   ]
  },
  {
   "cell_type": "code",
   "execution_count": 10,
   "metadata": {},
   "outputs": [
    {
     "name": "stdout",
     "output_type": "stream",
     "text": [
      "[1, 2, 3, 'a', 'b', 'c', 'd']\n"
     ]
    }
   ],
   "source": [
    "#append\n",
    "list1.append('c')\n",
    "list1.append('d')\n",
    "print(list1)\n"
   ]
  },
  {
   "cell_type": "code",
   "execution_count": 11,
   "metadata": {},
   "outputs": [
    {
     "name": "stdout",
     "output_type": "stream",
     "text": [
      "[1, 2, 3, 'a', 'e', 'b', 'c', 'd']\n"
     ]
    }
   ],
   "source": [
    "list1.insert(-3,\"e\")\n",
    "print(list1)\n"
   ]
  },
  {
   "cell_type": "code",
   "execution_count": 12,
   "metadata": {},
   "outputs": [
    {
     "name": "stdout",
     "output_type": "stream",
     "text": [
      "[1, 2, 3, 'pinki', 'yadav']\n"
     ]
    }
   ],
   "source": [
    "arr=[1,2,3,'pinki']\n",
    "arr.append('yadav')\n",
    "print(arr)"
   ]
  },
  {
   "cell_type": "code",
   "execution_count": 13,
   "metadata": {},
   "outputs": [
    {
     "name": "stdout",
     "output_type": "stream",
     "text": [
      "[1, 'python', 2, 3, 'pinki', 'yadav']\n"
     ]
    }
   ],
   "source": [
    "\n",
    "#insertin array\n",
    "arr.insert(1,'python')\n",
    "print(arr)"
   ]
  },
  {
   "cell_type": "code",
   "execution_count": 14,
   "metadata": {},
   "outputs": [
    {
     "name": "stdout",
     "output_type": "stream",
     "text": [
      "yadav\n"
     ]
    }
   ],
   "source": [
    "#delete\n",
    "x=arr.pop()\n",
    "print(x)\n",
    "\n"
   ]
  },
  {
   "cell_type": "code",
   "execution_count": 15,
   "metadata": {},
   "outputs": [
    {
     "name": "stdout",
     "output_type": "stream",
     "text": [
      "[1, 'python', 2, 'pinki']\n"
     ]
    }
   ],
   "source": [
    "arr.pop(3)\n",
    "print(arr)"
   ]
  },
  {
   "cell_type": "code",
   "execution_count": 16,
   "metadata": {},
   "outputs": [
    {
     "name": "stdout",
     "output_type": "stream",
     "text": [
      "[1, 'python', 'pinki']\n"
     ]
    }
   ],
   "source": [
    "arr.remove(2)\n",
    "print(arr)"
   ]
  },
  {
   "cell_type": "code",
   "execution_count": 17,
   "metadata": {},
   "outputs": [
    {
     "name": "stdout",
     "output_type": "stream",
     "text": [
      "6\n",
      "1\n"
     ]
    }
   ],
   "source": [
    "arr1=[1,2,3,4,5,6]\n",
    "print(max(arr1))\n",
    "print(min(arr1))"
   ]
  },
  {
   "cell_type": "code",
   "execution_count": 18,
   "metadata": {},
   "outputs": [
    {
     "name": "stdout",
     "output_type": "stream",
     "text": [
      "[6, 5, 4, 3, 2, 1]\n"
     ]
    }
   ],
   "source": [
    "#reverse\n",
    "arr1.reverse()\n",
    "print(arr1)"
   ]
  },
  {
   "cell_type": "code",
   "execution_count": 19,
   "metadata": {},
   "outputs": [
    {
     "name": "stdout",
     "output_type": "stream",
     "text": [
      "[1, 4]\n"
     ]
    }
   ],
   "source": [
    "print(arr1[::-3])"
   ]
  },
  {
   "cell_type": "code",
   "execution_count": 20,
   "metadata": {},
   "outputs": [
    {
     "name": "stdout",
     "output_type": "stream",
     "text": [
      "3\n"
     ]
    }
   ],
   "source": [
    "#count\n",
    "arr2= (1,2,3,5,16,7,7,7,5,3,1,6,)\n",
    "print(arr2.count(7))"
   ]
  },
  {
   "cell_type": "code",
   "execution_count": 21,
   "metadata": {},
   "outputs": [
    {
     "name": "stdout",
     "output_type": "stream",
     "text": [
      "[-1, 0, 1, 23, 123, 1000]\n"
     ]
    }
   ],
   "source": [
    "#sort\n",
    "arr3=[0,1,-1,123,1000,23]\n",
    "arr3.sort()\n",
    "print(arr3)"
   ]
  },
  {
   "cell_type": "code",
   "execution_count": 22,
   "metadata": {},
   "outputs": [
    {
     "name": "stdout",
     "output_type": "stream",
     "text": [
      "[1000, 123, 23, 1, 0, -1]\n"
     ]
    }
   ],
   "source": [
    "#sort\n",
    "arr3=[0,1,-1,123,1000,23]\n",
    "arr3.sort(reverse=True)\n",
    "print(arr3)"
   ]
  },
  {
   "cell_type": "code",
   "execution_count": 23,
   "metadata": {},
   "outputs": [
    {
     "name": "stdout",
     "output_type": "stream",
     "text": [
      "[1, 2, 3, 1, 3, 4, 5]\n",
      "[1, 3, 6, 7, 8, [1, 2, 3, 4]]\n"
     ]
    }
   ],
   "source": [
    "#extend\n",
    "arr4=[1,2,3]\n",
    "arr4.extend([1,3,4,5])\n",
    "print(arr4)\n",
    "\n",
    "#append\n",
    "arr4=[1,3,6,7,8]\n",
    "arr4.append([1,2,3,4])\n",
    "print(arr4)"
   ]
  },
  {
   "cell_type": "code",
   "execution_count": 26,
   "metadata": {},
   "outputs": [
    {
     "name": "stdout",
     "output_type": "stream",
     "text": [
      "pinki\n",
      "anu\n"
     ]
    }
   ],
   "source": [
    "arr5=['kashika','anu','pinki']\n",
    "print(max(arr5))\n",
    "print(min(arr5))"
   ]
  },
  {
   "cell_type": "code",
   "execution_count": null,
   "metadata": {},
   "outputs": [],
   "source": []
  }
 ],
 "metadata": {
  "kernelspec": {
   "display_name": "base",
   "language": "python",
   "name": "python3"
  },
  "language_info": {
   "codemirror_mode": {
    "name": "ipython",
    "version": 3
   },
   "file_extension": ".py",
   "mimetype": "text/x-python",
   "name": "python",
   "nbconvert_exporter": "python",
   "pygments_lexer": "ipython3",
   "version": "3.10.10"
  },
  "orig_nbformat": 4
 },
 "nbformat": 4,
 "nbformat_minor": 2
}
