{
 "cells": [
  {
   "cell_type": "code",
   "execution_count": 55,
   "metadata": {},
   "outputs": [],
   "source": [
    "# defining list in python\n",
    "\n",
    "#list of strings\n",
    "# list1=[\"aman\", \"akhilesk\",\"rahul\",\"devansh\",'rishab']\n",
    "\n",
    "#list of numbers\n",
    "list2=[1,2,3,4]\n",
    "#mixed datalist\n",
    "#list3=[\"ravi\",60,102,\"b\",\"false\"]\n",
    "#nested list\n",
    "list4=[[1234],[1,3,4,5],[1,2]]"
   ]
  },
  {
   "cell_type": "code",
   "execution_count": 56,
   "metadata": {},
   "outputs": [
    {
     "name": "stdout",
     "output_type": "stream",
     "text": [
      "[40, 50, 60, 70, 80]\n"
     ]
    }
   ],
   "source": [
    "# Getting a list slice\n",
    "l =[10,20,30,40,50,60,70,80,90,100]\n",
    "slice1=l[-7:-2]\n",
    "print(slice1)"
   ]
  },
  {
   "cell_type": "code",
   "execution_count": 57,
   "metadata": {},
   "outputs": [
    {
     "name": "stdout",
     "output_type": "stream",
     "text": [
      "[60, 10, 20, 30, 40, 50, 60, 70, 80, 90]\n",
      "[40, 50, 60, 10, 20, 30, 40, 50, 60]\n"
     ]
    }
   ],
   "source": [
    "# Getting a list\n",
    "l=[10,20,30,40,50,60,10,20,30,40,50,60,70,80,90,100]\n",
    "slice1=l[5:-1]\n",
    "slice2=l[3:-4]\n",
    "print(slice1)\n",
    "print(slice2)"
   ]
  },
  {
   "cell_type": "code",
   "execution_count": 58,
   "metadata": {},
   "outputs": [],
   "source": [
    "list1=[1,2,3,'a','b']"
   ]
  },
  {
   "cell_type": "code",
   "execution_count": 59,
   "metadata": {},
   "outputs": [
    {
     "name": "stdout",
     "output_type": "stream",
     "text": [
      "[1, 2, 3, 'a', 'b', 'c', 'd']\n"
     ]
    }
   ],
   "source": [
    "#append\n",
    "list1.append('c')\n",
    "list1.append('d')\n",
    "print(list1)\n"
   ]
  },
  {
   "cell_type": "code",
   "execution_count": 60,
   "metadata": {},
   "outputs": [
    {
     "name": "stdout",
     "output_type": "stream",
     "text": [
      "[1, 2, 3, 'a', 'e', 'b', 'c', 'd']\n"
     ]
    }
   ],
   "source": [
    "list1.insert(-3,\"e\")\n",
    "print(list1)\n"
   ]
  },
  {
   "cell_type": "code",
   "execution_count": 61,
   "metadata": {},
   "outputs": [
    {
     "name": "stdout",
     "output_type": "stream",
     "text": [
      "[1, 2, 3, 'pinki', 'yadav']\n"
     ]
    }
   ],
   "source": [
    "arr=[1,2,3,'pinki']\n",
    "arr.append('yadav')\n",
    "print(arr)"
   ]
  },
  {
   "cell_type": "code",
   "execution_count": 62,
   "metadata": {},
   "outputs": [
    {
     "name": "stdout",
     "output_type": "stream",
     "text": [
      "[1, 'python', 2, 3, 'pinki', 'yadav']\n"
     ]
    }
   ],
   "source": [
    "\n",
    "#insertin array\n",
    "arr.insert(1,'python')\n",
    "print(arr)"
   ]
  },
  {
   "cell_type": "code",
   "execution_count": 63,
   "metadata": {},
   "outputs": [
    {
     "name": "stdout",
     "output_type": "stream",
     "text": [
      "yadav\n"
     ]
    }
   ],
   "source": [
    "#delete\n",
    "x=arr.pop()\n",
    "print(x)\n",
    "\n"
   ]
  },
  {
   "cell_type": "code",
   "execution_count": 64,
   "metadata": {},
   "outputs": [
    {
     "name": "stdout",
     "output_type": "stream",
     "text": [
      "[1, 'python', 2, 'pinki']\n"
     ]
    }
   ],
   "source": [
    "arr.pop(3)\n",
    "print(arr)"
   ]
  },
  {
   "cell_type": "code",
   "execution_count": 65,
   "metadata": {},
   "outputs": [
    {
     "name": "stdout",
     "output_type": "stream",
     "text": [
      "[1, 'python', 'pinki']\n"
     ]
    }
   ],
   "source": [
    "arr.remove(2)\n",
    "print(arr)"
   ]
  },
  {
   "cell_type": "code",
   "execution_count": 66,
   "metadata": {},
   "outputs": [
    {
     "name": "stdout",
     "output_type": "stream",
     "text": [
      "6\n",
      "1\n"
     ]
    }
   ],
   "source": [
    "arr1=[1,2,3,4,5,6]\n",
    "print(max(arr1))\n",
    "print(min(arr1))"
   ]
  },
  {
   "cell_type": "code",
   "execution_count": 67,
   "metadata": {},
   "outputs": [
    {
     "name": "stdout",
     "output_type": "stream",
     "text": [
      "[6, 5, 4, 3, 2, 1]\n"
     ]
    }
   ],
   "source": [
    "#reverse\n",
    "arr1.reverse()\n",
    "print(arr1)"
   ]
  },
  {
   "cell_type": "code",
   "execution_count": 68,
   "metadata": {},
   "outputs": [
    {
     "name": "stdout",
     "output_type": "stream",
     "text": [
      "[1, 4]\n"
     ]
    }
   ],
   "source": [
    "print(arr1[::-3])"
   ]
  },
  {
   "cell_type": "code",
   "execution_count": 69,
   "metadata": {},
   "outputs": [
    {
     "name": "stdout",
     "output_type": "stream",
     "text": [
      "3\n"
     ]
    }
   ],
   "source": [
    "#count\n",
    "arr2= (1,2,3,5,16,7,7,7,5,3,1,6,)\n",
    "print(arr2.count(7))"
   ]
  },
  {
   "cell_type": "code",
   "execution_count": 70,
   "metadata": {},
   "outputs": [
    {
     "name": "stdout",
     "output_type": "stream",
     "text": [
      "[-1, 0, 1, 23, 123, 1000]\n"
     ]
    }
   ],
   "source": [
    "#sort\n",
    "arr3=[0,1,-1,123,1000,23]\n",
    "arr3.sort()\n",
    "print(arr3)"
   ]
  },
  {
   "cell_type": "code",
   "execution_count": 71,
   "metadata": {},
   "outputs": [
    {
     "name": "stdout",
     "output_type": "stream",
     "text": [
      "[1000, 123, 23, 1, 0, -1]\n"
     ]
    }
   ],
   "source": [
    "#sort\n",
    "arr3=[0,1,-1,123,1000,23]\n",
    "arr3.sort(reverse=True)\n",
    "print(arr3)"
   ]
  },
  {
   "cell_type": "code",
   "execution_count": 74,
   "metadata": {},
   "outputs": [
    {
     "name": "stdout",
     "output_type": "stream",
     "text": [
      "[1, 2, 3, 1, 3, 4, 5]\n",
      "[1, 3, 6, 7, 8, [1, 2, 3, 4]]\n"
     ]
    }
   ],
   "source": [
    "#extend\n",
    "arr4=[1,2,3]\n",
    "arr4.extend([1,3,4,5])\n",
    "print(arr4)\n",
    "\n",
    "#append\n",
    "arr4=[1,3,6,7,8]\n",
    "arr4.append([1,2,3,4])\n",
    "print(arr4)"
   ]
  },
  {
   "cell_type": "code",
   "execution_count": 77,
   "metadata": {},
   "outputs": [
    {
     "ename": "TypeError",
     "evalue": "'>' not supported between instances of 'str' and 'int'",
     "output_type": "error",
     "traceback": [
      "\u001b[1;31m---------------------------------------------------------------------------\u001b[0m",
      "\u001b[1;31mTypeError\u001b[0m                                 Traceback (most recent call last)",
      "Cell \u001b[1;32mIn[77], line 2\u001b[0m\n\u001b[0;32m      1\u001b[0m arr5\u001b[39m=\u001b[39m[\u001b[39m'\u001b[39m\u001b[39mkashika\u001b[39m\u001b[39m'\u001b[39m,\u001b[39m'\u001b[39m\u001b[39manu\u001b[39m\u001b[39m'\u001b[39m]\n\u001b[1;32m----> 2\u001b[0m arr5(\u001b[39mmax\u001b[39;49m(arr))\n\u001b[0;32m      3\u001b[0m arr5(\u001b[39mmin\u001b[39m(arr))\n",
      "\u001b[1;31mTypeError\u001b[0m: '>' not supported between instances of 'str' and 'int'"
     ]
    }
   ],
   "source": [
    "arr5=['kashika','anu']\n",
    "arr5.(max(arr))\n",
    "arr5.(min(arr))"
   ]
  },
  {
   "cell_type": "code",
   "execution_count": null,
   "metadata": {},
   "outputs": [],
   "source": []
  }
 ],
 "metadata": {
  "kernelspec": {
   "display_name": "base",
   "language": "python",
   "name": "python3"
  },
  "language_info": {
   "codemirror_mode": {
    "name": "ipython",
    "version": 3
   },
   "file_extension": ".py",
   "mimetype": "text/x-python",
   "name": "python",
   "nbconvert_exporter": "python",
   "pygments_lexer": "ipython3",
   "version": "3.10.10"
  },
  "orig_nbformat": 4
 },
 "nbformat": 4,
 "nbformat_minor": 2
}
