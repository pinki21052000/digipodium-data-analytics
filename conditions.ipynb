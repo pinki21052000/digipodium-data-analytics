{
 "cells": [
  {
   "cell_type": "code",
   "execution_count": 16,
   "metadata": {},
   "outputs": [],
   "source": [
    "x=100"
   ]
  },
  {
   "cell_type": "code",
   "execution_count": 17,
   "metadata": {},
   "outputs": [
    {
     "name": "stdout",
     "output_type": "stream",
     "text": [
      "x is greater than 10\n"
     ]
    }
   ],
   "source": [
    "if x > 10:\n",
    "    print(\"x is greater than 10\")"
   ]
  },
  {
   "cell_type": "code",
   "execution_count": 18,
   "metadata": {},
   "outputs": [],
   "source": [
    "name=\"William Shakespeare\""
   ]
  },
  {
   "cell_type": "code",
   "execution_count": 19,
   "metadata": {},
   "outputs": [
    {
     "data": {
      "text/plain": [
       "True"
      ]
     },
     "execution_count": 19,
     "metadata": {},
     "output_type": "execute_result"
    }
   ],
   "source": [
    "'Will' in name"
   ]
  },
  {
   "cell_type": "code",
   "execution_count": 20,
   "metadata": {},
   "outputs": [
    {
     "name": "stdout",
     "output_type": "stream",
     "text": [
      "speare found in name\n"
     ]
    }
   ],
   "source": [
    "if 'speare' in name:\n",
    "    print(\"speare found in name\" )"
   ]
  },
  {
   "cell_type": "code",
   "execution_count": 35,
   "metadata": {},
   "outputs": [
    {
     "name": "stdout",
     "output_type": "stream",
     "text": [
      "you are a child \n",
      "you cannot vote \n",
      "you can vote in  17 year\n"
     ]
    }
   ],
   "source": [
    "age =int(input('what is you age:'))\n",
    "if age >=18:\n",
    "    print('you are an adult')\n",
    "    print('you can vote')\n",
    "else:\n",
    "    print('you are a child ')\n",
    "    print('you cannot vote ')\n",
    "    print('you can vote in ' ,18 - age,'year')"
   ]
  },
  {
   "cell_type": "code",
   "execution_count": 15,
   "metadata": {},
   "outputs": [
    {
     "name": "stdout",
     "output_type": "stream",
     "text": [
      "welcome to the ice cream shop\n",
      "sorry we do not have orange flavour\n"
     ]
    }
   ],
   "source": [
    "# if elif else ladder\n",
    "print('welcome to the ice cream shop')\n",
    "flavour = input('what flavour do you want?')\n",
    "if flavour =='vanila':\n",
    "    print('here is your vanilla ice creame')\n",
    "elif flavour =='chocolate' :\n",
    "    print('here is your chocolate')\n",
    "elif flavour == 'strawberry':\n",
    "    print ('here is your strawberry')\n",
    "elif flavour =='butterscotch':\n",
    "    print(\"here is your butterscotch\")\n",
    "else:\n",
    "    print('sorry we do not have', flavour,'flavour')\n",
    "\n"
   ]
  },
  {
   "cell_type": "code",
   "execution_count": 33,
   "metadata": {},
   "outputs": [
    {
     "name": "stdout",
     "output_type": "stream",
     "text": [
      "you are not eligible for this job\n",
      "try again later\n"
     ]
    }
   ],
   "source": [
    "category= (input)('what is your category')\n",
    "if category== \"Genral\":\n",
    "  print(\"you are eligible for this job\")\n",
    "else :\n",
    "  print(\"you are not eligible for this job\")\n"
   ]
  }
 ],
 "metadata": {
  "kernelspec": {
   "display_name": "base",
   "language": "python",
   "name": "python3"
  },
  "language_info": {
   "codemirror_mode": {
    "name": "ipython",
    "version": 3
   },
   "file_extension": ".py",
   "mimetype": "text/x-python",
   "name": "python",
   "nbconvert_exporter": "python",
   "pygments_lexer": "ipython3",
   "version": "3.10.10"
  },
  "orig_nbformat": 4
 },
 "nbformat": 4,
 "nbformat_minor": 2
}
